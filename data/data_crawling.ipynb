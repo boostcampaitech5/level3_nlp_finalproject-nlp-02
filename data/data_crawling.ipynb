{
 "cells": [
  {
   "cell_type": "code",
   "execution_count": 6,
   "id": "b1850a9b",
   "metadata": {
    "ExecuteTime": {
     "end_time": "2023-07-10T19:18:05.816952Z",
     "start_time": "2023-07-10T19:18:05.803998Z"
    }
   },
   "outputs": [],
   "source": [
    "import time\n",
    "import pandas as pd\n",
    "import numpy as np\n",
    "from selenium import webdriver\n",
    "from selenium.webdriver.chrome.service import Service\n",
    "from selenium.webdriver.common.by import By\n",
    "from webdriver_manager.chrome import ChromeDriverManager\n",
    "from tqdm import tqdm\n",
    "import requests\n",
    "from bs4 import BeautifulSoup\n",
    "import time"
   ]
  },
  {
   "cell_type": "code",
   "execution_count": 7,
   "id": "373839a3",
   "metadata": {
    "ExecuteTime": {
     "end_time": "2023-07-10T19:18:06.445792Z",
     "start_time": "2023-07-10T19:18:05.820255Z"
    }
   },
   "outputs": [],
   "source": [
    "# 크롬 드라이버 가져오기\n",
    "chrome_driver = ChromeDriverManager().install()\n",
    "service = Service(chrome_driver)\n",
    "\n",
    "# 크롤링 옵션 생성\n",
    "options = webdriver.ChromeOptions()\n",
    "\n",
    "# 백그라운드 실행 옵션 추가\n",
    "options.add_argument(\"headless\")"
   ]
  },
  {
   "cell_type": "markdown",
   "id": "2f37b3c7",
   "metadata": {},
   "source": [
    "# Velog"
   ]
  },
  {
   "cell_type": "markdown",
   "id": "218ec2bc",
   "metadata": {},
   "source": [
    "## URL"
   ]
  },
  {
   "cell_type": "code",
   "execution_count": 8,
   "id": "20ca43c0",
   "metadata": {
    "ExecuteTime": {
     "end_time": "2023-07-10T19:18:06.473226Z",
     "start_time": "2023-07-10T19:18:06.445792Z"
    }
   },
   "outputs": [],
   "source": [
    "def url_velog(scroll_num=10, period='month'):\n",
    "    \n",
    "    \"\"\"\n",
    "    Velog(https://velog.io/)에 포함된 'url', 'title'을 가져오는 함수\n",
    "        Args:\n",
    "            scroll_num (int): 스크롤 몇 회 내릴지\n",
    "            period (str): 검색할 기간 | week, month, year\n",
    "        Returns:\n",
    "            'url', 'title', 'source' 컬럼을 가진 dataframe\n",
    "    \"\"\"\n",
    "    \n",
    "    df=pd.DataFrame()\n",
    "    L_url=[]\n",
    "    L_title=[]\n",
    "    L_topic=[]\n",
    "    L_source=[]\n",
    "    \n",
    "    url='https://velog.io/'\n",
    "    driver = webdriver.Chrome()\n",
    "    #driver = webdriver.Chrome(service=service, options=options)\n",
    "    driver.get(url)\n",
    "    time.sleep(1)\n",
    "    \n",
    "    if period=='week':\n",
    "        for i in tqdm(range(scroll_num)):\n",
    "            driver.execute_script(\"window.scrollTo(0, document.body.scrollHeight);\")\n",
    "            time.sleep(2)\n",
    "    \n",
    "    if period=='month':\n",
    "        a=driver.find_element(By.XPATH, '//*[@id=\"root\"]/div[2]/div[3]/div[1]/div[1]/div[2]')\n",
    "        a.click()\n",
    "        b=driver.find_element(By.XPATH, '//*[@id=\"root\"]/div[2]/div[3]/div[1]/div[1]/div[3]/div/div/ul/li[3]')\n",
    "        b.click()\n",
    "        time.sleep(3)\n",
    "\n",
    "        for i in tqdm(range(scroll_num)):\n",
    "            driver.execute_script(\"window.scrollTo(0, document.body.scrollHeight);\")\n",
    "            time.sleep(5)\n",
    "            \n",
    "    if period=='year':\n",
    "        a=driver.find_element(By.XPATH, '//*[@id=\"root\"]/div[2]/div[3]/div[1]/div[1]/div[2]')\n",
    "        a.click()\n",
    "        b=driver.find_element(By.XPATH, '//*[@id=\"root\"]/div[2]/div[3]/div[1]/div[1]/div[3]/div/div/ul/li[4]')\n",
    "        b.click()\n",
    "        time.sleep(3)\n",
    "\n",
    "        for i in tqdm(range(scroll_num)):\n",
    "            driver.execute_script(\"window.scrollTo(0, document.body.scrollHeight);\")\n",
    "            time.sleep(12)\n",
    "    \n",
    "    html = driver.page_source\n",
    "    soup = BeautifulSoup(html, \"html.parser\")\n",
    "    items = soup.select(\".sc-lbhJGD.jhNfXV\")\n",
    "    \n",
    "    for item in items:\n",
    "        L_title.append(item.select_one(\"h4\").text)\n",
    "        L_url.append('https://velog.io'+item.select_one(\".sc-jgrJph.dYjA-dM\")['href'])\n",
    "        L_source.append('velog')\n",
    "    \n",
    "    if scroll_num!=0:\n",
    "        \n",
    "        items = soup.select(\".sc-lbhJGD.cBCWUE\")\n",
    "\n",
    "        for item in items:\n",
    "            L_title.append(item.select_one(\"h4\").text)\n",
    "            L_url.append('https://velog.io'+item.select_one(\".sc-jgrJph.jPHRjo\")['href'])\n",
    "            L_source.append('velog')\n",
    "\n",
    "        df=pd.concat([df,pd.DataFrame({'url':L_url, 'title':L_title, 'source':L_source})]).reset_index(drop=True)\n",
    "        driver.close()\n",
    "    \n",
    "    return df"
   ]
  },
  {
   "cell_type": "code",
   "execution_count": 9,
   "id": "7dbe4d17",
   "metadata": {
    "ExecuteTime": {
     "end_time": "2023-07-10T19:18:19.520563Z",
     "start_time": "2023-07-10T19:18:06.476833Z"
    }
   },
   "outputs": [
    {
     "name": "stderr",
     "output_type": "stream",
     "text": [
      "100%|████████████████████████████████████████████████████████████████████████████████████| 3/3 [00:06<00:00,  2.03s/it]\n"
     ]
    }
   ],
   "source": [
    "df=url_velog(scroll_num=3, period='week')"
   ]
  },
  {
   "cell_type": "code",
   "execution_count": 10,
   "id": "8787e02c",
   "metadata": {
    "ExecuteTime": {
     "end_time": "2023-07-10T19:18:19.542414Z",
     "start_time": "2023-07-10T19:18:19.524259Z"
    }
   },
   "outputs": [
    {
     "data": {
      "text/html": [
       "<div>\n",
       "<style scoped>\n",
       "    .dataframe tbody tr th:only-of-type {\n",
       "        vertical-align: middle;\n",
       "    }\n",
       "\n",
       "    .dataframe tbody tr th {\n",
       "        vertical-align: top;\n",
       "    }\n",
       "\n",
       "    .dataframe thead th {\n",
       "        text-align: right;\n",
       "    }\n",
       "</style>\n",
       "<table border=\"1\" class=\"dataframe\">\n",
       "  <thead>\n",
       "    <tr style=\"text-align: right;\">\n",
       "      <th></th>\n",
       "      <th>url</th>\n",
       "      <th>title</th>\n",
       "      <th>source</th>\n",
       "    </tr>\n",
       "  </thead>\n",
       "  <tbody>\n",
       "    <tr>\n",
       "      <th>0</th>\n",
       "      <td>https://velog.io/@lingodingo/토스를-떠나면서</td>\n",
       "      <td>토스를 떠나면서</td>\n",
       "      <td>velog</td>\n",
       "    </tr>\n",
       "    <tr>\n",
       "      <th>1</th>\n",
       "      <td>https://velog.io/@turtle601/타입스크립트도-조건문을-쓸-수-있...</td>\n",
       "      <td>타입스크립트도 조건문을 쓸 수 있다??!!? ㄴ(°0°)ㄱ</td>\n",
       "      <td>velog</td>\n",
       "    </tr>\n",
       "    <tr>\n",
       "      <th>2</th>\n",
       "      <td>https://velog.io/@beberiche/돈이-없는-취준생은-노트북으로-배...</td>\n",
       "      <td>돈이 없는 취준생은 노트북에 배포를 했다.</td>\n",
       "      <td>velog</td>\n",
       "    </tr>\n",
       "  </tbody>\n",
       "</table>\n",
       "</div>"
      ],
      "text/plain": [
       "                                                 url  \\\n",
       "0              https://velog.io/@lingodingo/토스를-떠나면서   \n",
       "1  https://velog.io/@turtle601/타입스크립트도-조건문을-쓸-수-있...   \n",
       "2  https://velog.io/@beberiche/돈이-없는-취준생은-노트북으로-배...   \n",
       "\n",
       "                              title source  \n",
       "0                          토스를 떠나면서  velog  \n",
       "1  타입스크립트도 조건문을 쓸 수 있다??!!? ㄴ(°0°)ㄱ  velog  \n",
       "2           돈이 없는 취준생은 노트북에 배포를 했다.  velog  "
      ]
     },
     "execution_count": 10,
     "metadata": {},
     "output_type": "execute_result"
    }
   ],
   "source": [
    "df.head(3)"
   ]
  },
  {
   "cell_type": "markdown",
   "id": "1fe4672e",
   "metadata": {},
   "source": [
    "## Context"
   ]
  },
  {
   "cell_type": "code",
   "execution_count": 11,
   "id": "43923161",
   "metadata": {
    "ExecuteTime": {
     "end_time": "2023-07-10T19:18:19.557394Z",
     "start_time": "2023-07-10T19:18:19.544412Z"
    }
   },
   "outputs": [],
   "source": [
    "# 본문 스크래핑\n",
    "def context_tag_velog(url):\n",
    "    \n",
    "    \"\"\"\n",
    "    Velog(https://velog.io/)에 포함된 url에 해당하는 'context', 'tag'를 가져오는 함수\n",
    "        Args:\n",
    "            url : Velog(https://velog.io/)에 포함된 url\n",
    "        Returns:\n",
    "            'url', 'context', 'tag' 컬럼을 가진 dataframe\n",
    "    \"\"\"\n",
    "    \n",
    "    try:\n",
    "        headers = {\"User-Agent\":\"Mozilla/5.0 (Windows NT 10.0; Win64; x64) AppleWebKit/537.36 (KHTML, like Gecko) Chrome/90.0.4430.93 Safari/537.36\"}\n",
    "        res = requests.get(url, headers=headers)\n",
    "        soup = BeautifulSoup(res.text, \"lxml\") \n",
    "        text = soup.find(\"div\", attrs={\"class\":\"atom-one\"}).get_text()\n",
    "        text = text.replace(\"\\n\",\"\") #공백 제거\n",
    "        text = text.replace(\"\\xa0\",\" \") # 띄어쓰기가 \\xa0로 표시돼서 다시 바꿈\n",
    "        items=soup.select_one(\"div\", attrs={\"class\":\"sc-evcjhq.bIwPM\"}).select(\"a\", attrs={\"class\":\"sc-gIDmLj.ftTqiG\"})\n",
    "        tags=[]\n",
    "        \n",
    "        for item in items:\n",
    "            if '/tags' in item['href']:\n",
    "                tags.append(item.text)\n",
    "        return text,tags\n",
    "    \n",
    "    except:\n",
    "        return np.nan,np.nan"
   ]
  },
  {
   "cell_type": "code",
   "execution_count": 12,
   "id": "11ca311c",
   "metadata": {
    "ExecuteTime": {
     "end_time": "2023-07-10T19:18:50.194891Z",
     "start_time": "2023-07-10T19:18:19.559396Z"
    }
   },
   "outputs": [
    {
     "name": "stderr",
     "output_type": "stream",
     "text": [
      "100%|██████████████████████████████████████████████████████████████████████████████████| 88/88 [00:30<00:00,  2.88it/s]\n"
     ]
    }
   ],
   "source": [
    "df['tags']=''\n",
    "for i in tqdm(range(len(df))):\n",
    "    df.loc[i,'context'],df.at[i,'tags']=context_tag_velog(df.loc[i,'url'])"
   ]
  },
  {
   "cell_type": "code",
   "execution_count": 13,
   "id": "bd08aabd",
   "metadata": {
    "ExecuteTime": {
     "end_time": "2023-07-10T19:18:50.234084Z",
     "start_time": "2023-07-10T19:18:50.200136Z"
    }
   },
   "outputs": [
    {
     "data": {
      "text/html": [
       "<div>\n",
       "<style scoped>\n",
       "    .dataframe tbody tr th:only-of-type {\n",
       "        vertical-align: middle;\n",
       "    }\n",
       "\n",
       "    .dataframe tbody tr th {\n",
       "        vertical-align: top;\n",
       "    }\n",
       "\n",
       "    .dataframe thead th {\n",
       "        text-align: right;\n",
       "    }\n",
       "</style>\n",
       "<table border=\"1\" class=\"dataframe\">\n",
       "  <thead>\n",
       "    <tr style=\"text-align: right;\">\n",
       "      <th></th>\n",
       "      <th>url</th>\n",
       "      <th>title</th>\n",
       "      <th>source</th>\n",
       "      <th>tags</th>\n",
       "      <th>context</th>\n",
       "    </tr>\n",
       "  </thead>\n",
       "  <tbody>\n",
       "    <tr>\n",
       "      <th>0</th>\n",
       "      <td>https://velog.io/@lingodingo/토스를-떠나면서</td>\n",
       "      <td>토스를 떠나면서</td>\n",
       "      <td>velog</td>\n",
       "      <td>[]</td>\n",
       "      <td>🚚 떠나면서토스는 나의 두 번째 회사이기도 하면서 참 많은 경험을 겪게 해준 고마운...</td>\n",
       "    </tr>\n",
       "    <tr>\n",
       "      <th>1</th>\n",
       "      <td>https://velog.io/@turtle601/타입스크립트도-조건문을-쓸-수-있...</td>\n",
       "      <td>타입스크립트도 조건문을 쓸 수 있다??!!? ㄴ(°0°)ㄱ</td>\n",
       "      <td>velog</td>\n",
       "      <td>[typescript]</td>\n",
       "      <td>위 글 은 타입스크립트의 조건부 타입 을 사용해보고 정리하는 글입니다. 📌 조건부 ...</td>\n",
       "    </tr>\n",
       "    <tr>\n",
       "      <th>2</th>\n",
       "      <td>https://velog.io/@beberiche/돈이-없는-취준생은-노트북으로-배...</td>\n",
       "      <td>돈이 없는 취준생은 노트북에 배포를 했다.</td>\n",
       "      <td>velog</td>\n",
       "      <td>[DDNS, ec2, ubuntu, 방화벽, 배포, 포트포워딩]</td>\n",
       "      <td>개요프론트엔드 개발자이지만, 서비스 배포 및 운영에 매우 큰 관심을 가지고 있다. ...</td>\n",
       "    </tr>\n",
       "  </tbody>\n",
       "</table>\n",
       "</div>"
      ],
      "text/plain": [
       "                                                 url  \\\n",
       "0              https://velog.io/@lingodingo/토스를-떠나면서   \n",
       "1  https://velog.io/@turtle601/타입스크립트도-조건문을-쓸-수-있...   \n",
       "2  https://velog.io/@beberiche/돈이-없는-취준생은-노트북으로-배...   \n",
       "\n",
       "                              title source  \\\n",
       "0                          토스를 떠나면서  velog   \n",
       "1  타입스크립트도 조건문을 쓸 수 있다??!!? ㄴ(°0°)ㄱ  velog   \n",
       "2           돈이 없는 취준생은 노트북에 배포를 했다.  velog   \n",
       "\n",
       "                                  tags  \\\n",
       "0                                   []   \n",
       "1                         [typescript]   \n",
       "2  [DDNS, ec2, ubuntu, 방화벽, 배포, 포트포워딩]   \n",
       "\n",
       "                                             context  \n",
       "0  🚚 떠나면서토스는 나의 두 번째 회사이기도 하면서 참 많은 경험을 겪게 해준 고마운...  \n",
       "1  위 글 은 타입스크립트의 조건부 타입 을 사용해보고 정리하는 글입니다. 📌 조건부 ...  \n",
       "2  개요프론트엔드 개발자이지만, 서비스 배포 및 운영에 매우 큰 관심을 가지고 있다. ...  "
      ]
     },
     "execution_count": 13,
     "metadata": {},
     "output_type": "execute_result"
    }
   ],
   "source": [
    "df.head(3)"
   ]
  },
  {
   "cell_type": "markdown",
   "id": "ae663f3a",
   "metadata": {
    "ExecuteTime": {
     "end_time": "2023-07-10T05:45:23.480550Z",
     "start_time": "2023-07-10T05:45:23.463584Z"
    }
   },
   "source": [
    "# Tistory"
   ]
  },
  {
   "cell_type": "markdown",
   "id": "355f134b",
   "metadata": {},
   "source": [
    "## URL"
   ]
  },
  {
   "cell_type": "code",
   "execution_count": 14,
   "id": "e755cb06",
   "metadata": {
    "ExecuteTime": {
     "end_time": "2023-07-10T19:18:53.464578Z",
     "start_time": "2023-07-10T19:18:53.459595Z"
    }
   },
   "outputs": [],
   "source": [
    "def makeUrl_tistory(topic):\n",
    "    urls=[]\n",
    "    url=f'https://www.tistory.com/category/{topic}'\n",
    "    return url"
   ]
  },
  {
   "cell_type": "code",
   "execution_count": 15,
   "id": "9714e47e",
   "metadata": {
    "ExecuteTime": {
     "end_time": "2023-07-10T19:18:53.930236Z",
     "start_time": "2023-07-10T19:18:53.896393Z"
    }
   },
   "outputs": [],
   "source": [
    "def url_tistory(scroll_num=10,topic=['life','travel','culture','it','sports','current']):\n",
    "    \n",
    "    \"\"\"\n",
    "    Tistory(https://www.tistory.com/category/{해당 topic})에 포함된 'url', 'title', 'big_topic', 'small_topic'을 가져오는 함수\n",
    "        Args:\n",
    "            scroll_num (int): 스크롤 몇 회 내릴지\n",
    "            topic (list): 크롤링하고 싶은 주제 | ['life','travel','culture','it','sports','current']\n",
    "        Returns:\n",
    "            'url', 'title', 'big_topic', 'small_topic', 'source' 컬럼을 가진 dataframe\n",
    "    \"\"\"\n",
    "    \n",
    "    df=pd.DataFrame()\n",
    "    \n",
    "    for n in topic:\n",
    "        globals()[f'urls_{n}']=makeUrl_tistory(topic=n)\n",
    "        \n",
    "    for n in topic:\n",
    "        L_url=[]\n",
    "        L_title=[]\n",
    "        L_topic=[]\n",
    "        L_label=[]\n",
    "        \n",
    "        driver = webdriver.Chrome()\n",
    "        #driver = webdriver.Chrome(service=service, options=options)\n",
    "        url=globals()[f'urls_{n}']\n",
    "        driver.get(url)\n",
    "        time.sleep(1)\n",
    "\n",
    "        for i in tqdm(range(scroll_num)):\n",
    "            driver.execute_script(\"window.scrollTo(0, document.body.scrollHeight);\")\n",
    "            time.sleep(2)\n",
    "\n",
    "        html = driver.page_source\n",
    "        soup = BeautifulSoup(html, \"html.parser\")\n",
    "        items = soup.select(f\".\\#article\\#{n}\")\n",
    "\n",
    "        for item in items:\n",
    "            L_title.append(item.select_one(\".inner_desc_tit\").text)\n",
    "            L_url.append(item['href'])\n",
    "            L_topic.append(item.select_one(\".inner_data\").text)\n",
    "            L_label.append(n)\n",
    "            \n",
    "        driver.close()\n",
    "        print(f'{n}: {len(L_url)}개')\n",
    "        df=pd.concat([df,pd.DataFrame({'url':L_url,'big_topic':L_label,'small_topic':L_topic, 'title':L_title})]).reset_index(drop=True)\n",
    "    \n",
    "    df['source']='tistory'\n",
    "    return df"
   ]
  },
  {
   "cell_type": "code",
   "execution_count": 16,
   "id": "6506ceb8",
   "metadata": {
    "ExecuteTime": {
     "end_time": "2023-07-10T19:20:09.640732Z",
     "start_time": "2023-07-10T19:18:55.138233Z"
    }
   },
   "outputs": [
    {
     "name": "stderr",
     "output_type": "stream",
     "text": [
      "100%|████████████████████████████████████████████████████████████████████████████████████| 3/3 [00:06<00:00,  2.02s/it]\n"
     ]
    },
    {
     "name": "stdout",
     "output_type": "stream",
     "text": [
      "life: 36개\n"
     ]
    },
    {
     "name": "stderr",
     "output_type": "stream",
     "text": [
      "100%|████████████████████████████████████████████████████████████████████████████████████| 3/3 [00:06<00:00,  2.02s/it]\n"
     ]
    },
    {
     "name": "stdout",
     "output_type": "stream",
     "text": [
      "travel: 48개\n"
     ]
    },
    {
     "name": "stderr",
     "output_type": "stream",
     "text": [
      "100%|████████████████████████████████████████████████████████████████████████████████████| 3/3 [00:06<00:00,  2.02s/it]\n"
     ]
    },
    {
     "name": "stdout",
     "output_type": "stream",
     "text": [
      "culture: 48개\n"
     ]
    },
    {
     "name": "stderr",
     "output_type": "stream",
     "text": [
      "100%|████████████████████████████████████████████████████████████████████████████████████| 3/3 [00:06<00:00,  2.02s/it]\n"
     ]
    },
    {
     "name": "stdout",
     "output_type": "stream",
     "text": [
      "it: 36개\n"
     ]
    },
    {
     "name": "stderr",
     "output_type": "stream",
     "text": [
      "100%|████████████████████████████████████████████████████████████████████████████████████| 3/3 [00:06<00:00,  2.02s/it]\n"
     ]
    },
    {
     "name": "stdout",
     "output_type": "stream",
     "text": [
      "sports: 48개\n"
     ]
    },
    {
     "name": "stderr",
     "output_type": "stream",
     "text": [
      "100%|████████████████████████████████████████████████████████████████████████████████████| 3/3 [00:06<00:00,  2.02s/it]\n"
     ]
    },
    {
     "name": "stdout",
     "output_type": "stream",
     "text": [
      "current: 48개\n"
     ]
    }
   ],
   "source": [
    "df = url_tistory(scroll_num=3,topic=['life','travel','culture','it','sports','current'])"
   ]
  },
  {
   "cell_type": "code",
   "execution_count": 17,
   "id": "f1cdf23e",
   "metadata": {
    "ExecuteTime": {
     "end_time": "2023-07-10T19:20:09.668666Z",
     "start_time": "2023-07-10T19:20:09.646855Z"
    }
   },
   "outputs": [
    {
     "data": {
      "text/html": [
       "<div>\n",
       "<style scoped>\n",
       "    .dataframe tbody tr th:only-of-type {\n",
       "        vertical-align: middle;\n",
       "    }\n",
       "\n",
       "    .dataframe tbody tr th {\n",
       "        vertical-align: top;\n",
       "    }\n",
       "\n",
       "    .dataframe thead th {\n",
       "        text-align: right;\n",
       "    }\n",
       "</style>\n",
       "<table border=\"1\" class=\"dataframe\">\n",
       "  <thead>\n",
       "    <tr style=\"text-align: right;\">\n",
       "      <th></th>\n",
       "      <th>url</th>\n",
       "      <th>big_topic</th>\n",
       "      <th>small_topic</th>\n",
       "      <th>title</th>\n",
       "      <th>source</th>\n",
       "    </tr>\n",
       "  </thead>\n",
       "  <tbody>\n",
       "    <tr>\n",
       "      <th>0</th>\n",
       "      <td>https://mok0nolg0.tistory.com/2127</td>\n",
       "      <td>life</td>\n",
       "      <td>해외생활</td>\n",
       "      <td>점점 더 스며드는 중이다 (feat.장보기)</td>\n",
       "      <td>tistory</td>\n",
       "    </tr>\n",
       "    <tr>\n",
       "      <th>1</th>\n",
       "      <td>https://donothurt.tistory.com/28</td>\n",
       "      <td>life</td>\n",
       "      <td>건강</td>\n",
       "      <td>기침에 좋은 음식,은행 잎 열매 효능 부작용</td>\n",
       "      <td>tistory</td>\n",
       "    </tr>\n",
       "    <tr>\n",
       "      <th>2</th>\n",
       "      <td>https://miyah806.tistory.com/entry/93세-엄마의-생신</td>\n",
       "      <td>life</td>\n",
       "      <td>해외생활</td>\n",
       "      <td>엄마의 93세 생신</td>\n",
       "      <td>tistory</td>\n",
       "    </tr>\n",
       "  </tbody>\n",
       "</table>\n",
       "</div>"
      ],
      "text/plain": [
       "                                             url big_topic small_topic  \\\n",
       "0             https://mok0nolg0.tistory.com/2127      life        해외생활   \n",
       "1               https://donothurt.tistory.com/28      life          건강   \n",
       "2  https://miyah806.tistory.com/entry/93세-엄마의-생신      life        해외생활   \n",
       "\n",
       "                      title   source  \n",
       "0  점점 더 스며드는 중이다 (feat.장보기)  tistory  \n",
       "1  기침에 좋은 음식,은행 잎 열매 효능 부작용  tistory  \n",
       "2                엄마의 93세 생신  tistory  "
      ]
     },
     "execution_count": 17,
     "metadata": {},
     "output_type": "execute_result"
    }
   ],
   "source": [
    "df.head(3)"
   ]
  },
  {
   "cell_type": "markdown",
   "id": "68e27154",
   "metadata": {},
   "source": [
    "## Context"
   ]
  },
  {
   "cell_type": "code",
   "execution_count": 18,
   "id": "39a5376d",
   "metadata": {
    "ExecuteTime": {
     "end_time": "2023-07-10T19:20:17.202661Z",
     "start_time": "2023-07-10T19:20:17.192924Z"
    }
   },
   "outputs": [],
   "source": [
    "def context_tistory(url):\n",
    "    \n",
    "    \"\"\"\n",
    "    Tistory(https://www.tistory.com/category/{해당 topic})에 포함된 url에 해당하는 'context'를 가져오는 함수\n",
    "        Args:\n",
    "            url : Tistory(https://www.tistory.com/category/{해당 topic})에 포함된 url\n",
    "        Returns:\n",
    "            'url', 'context' 컬럼을 가진 dataframe\n",
    "    \"\"\"\n",
    "    \n",
    "    try:\n",
    "        headers = {\"User-Agent\":\"Mozilla/5.0 (Windows NT 10.0; Win64; x64) AppleWebKit/537.36 (KHTML, like Gecko) Chrome/90.0.4430.93 Safari/537.36\"}\n",
    "        res = requests.get(url, headers=headers)\n",
    "        soup = BeautifulSoup(res.text, \"lxml\") \n",
    "        text = soup.find(\"div\", attrs={\"class\":\"contents_style\"}).get_text()\n",
    "        text = text.replace(\"\\n\",\"\") #공백 제거\n",
    "        text = text.replace(\"\\xa0\",\" \") # 띄어쓰기가 \\xa0로 표시돼서 다시 바꿈\n",
    "        return text\n",
    "    \n",
    "    except:\n",
    "        return np.nan"
   ]
  },
  {
   "cell_type": "code",
   "execution_count": 19,
   "id": "ce36325e",
   "metadata": {
    "ExecuteTime": {
     "end_time": "2023-07-10T19:20:58.923853Z",
     "start_time": "2023-07-10T19:20:18.454038Z"
    }
   },
   "outputs": [
    {
     "name": "stderr",
     "output_type": "stream",
     "text": [
      "100%|████████████████████████████████████████████████████████████████████████████████| 264/264 [00:40<00:00,  6.53it/s]\n"
     ]
    }
   ],
   "source": [
    "for i in tqdm(range(len(df))):\n",
    "    df.loc[i,'context']=context_tistory(df.loc[i,'url'])"
   ]
  },
  {
   "cell_type": "code",
   "execution_count": 20,
   "id": "702a580a",
   "metadata": {
    "ExecuteTime": {
     "end_time": "2023-07-10T19:20:58.952512Z",
     "start_time": "2023-07-10T19:20:58.927003Z"
    }
   },
   "outputs": [
    {
     "data": {
      "text/html": [
       "<div>\n",
       "<style scoped>\n",
       "    .dataframe tbody tr th:only-of-type {\n",
       "        vertical-align: middle;\n",
       "    }\n",
       "\n",
       "    .dataframe tbody tr th {\n",
       "        vertical-align: top;\n",
       "    }\n",
       "\n",
       "    .dataframe thead th {\n",
       "        text-align: right;\n",
       "    }\n",
       "</style>\n",
       "<table border=\"1\" class=\"dataframe\">\n",
       "  <thead>\n",
       "    <tr style=\"text-align: right;\">\n",
       "      <th></th>\n",
       "      <th>url</th>\n",
       "      <th>big_topic</th>\n",
       "      <th>small_topic</th>\n",
       "      <th>title</th>\n",
       "      <th>source</th>\n",
       "      <th>context</th>\n",
       "    </tr>\n",
       "  </thead>\n",
       "  <tbody>\n",
       "    <tr>\n",
       "      <th>0</th>\n",
       "      <td>https://mok0nolg0.tistory.com/2127</td>\n",
       "      <td>life</td>\n",
       "      <td>해외생활</td>\n",
       "      <td>점점 더 스며드는 중이다 (feat.장보기)</td>\n",
       "      <td>tistory</td>\n",
       "      <td>나는 여전히 일주일에 한번꼴로 아침일찍 리들에 간다. 오늘은 근처사는 애교많은 치즈...</td>\n",
       "    </tr>\n",
       "    <tr>\n",
       "      <th>1</th>\n",
       "      <td>https://donothurt.tistory.com/28</td>\n",
       "      <td>life</td>\n",
       "      <td>건강</td>\n",
       "      <td>기침에 좋은 음식,은행 잎 열매 효능 부작용</td>\n",
       "      <td>tistory</td>\n",
       "      <td>안녕하세요,아플때울지마 입니다. 오늘은 요즘들어 제가 잔기침이 많아 기능성 음식에 ...</td>\n",
       "    </tr>\n",
       "    <tr>\n",
       "      <th>2</th>\n",
       "      <td>https://miyah806.tistory.com/entry/93세-엄마의-생신</td>\n",
       "      <td>life</td>\n",
       "      <td>해외생활</td>\n",
       "      <td>엄마의 93세 생신</td>\n",
       "      <td>tistory</td>\n",
       "      <td>2023년7월9일 일요일 Cloudy H:C29도 L:C22도 (H:F 85도 L...</td>\n",
       "    </tr>\n",
       "  </tbody>\n",
       "</table>\n",
       "</div>"
      ],
      "text/plain": [
       "                                             url big_topic small_topic  \\\n",
       "0             https://mok0nolg0.tistory.com/2127      life        해외생활   \n",
       "1               https://donothurt.tistory.com/28      life          건강   \n",
       "2  https://miyah806.tistory.com/entry/93세-엄마의-생신      life        해외생활   \n",
       "\n",
       "                      title   source  \\\n",
       "0  점점 더 스며드는 중이다 (feat.장보기)  tistory   \n",
       "1  기침에 좋은 음식,은행 잎 열매 효능 부작용  tistory   \n",
       "2                엄마의 93세 생신  tistory   \n",
       "\n",
       "                                             context  \n",
       "0  나는 여전히 일주일에 한번꼴로 아침일찍 리들에 간다. 오늘은 근처사는 애교많은 치즈...  \n",
       "1  안녕하세요,아플때울지마 입니다. 오늘은 요즘들어 제가 잔기침이 많아 기능성 음식에 ...  \n",
       "2   2023년7월9일 일요일 Cloudy H:C29도 L:C22도 (H:F 85도 L...  "
      ]
     },
     "execution_count": 20,
     "metadata": {},
     "output_type": "execute_result"
    }
   ],
   "source": [
    "df.head(3)"
   ]
  },
  {
   "cell_type": "markdown",
   "id": "12df5be3",
   "metadata": {},
   "source": [
    "# Naver Blog"
   ]
  },
  {
   "cell_type": "markdown",
   "id": "a5a411a5",
   "metadata": {},
   "source": [
    "## Topic"
   ]
  },
  {
   "cell_type": "code",
   "execution_count": 21,
   "id": "09ec2437",
   "metadata": {
    "ExecuteTime": {
     "end_time": "2023-07-10T19:21:19.247933Z",
     "start_time": "2023-07-10T19:21:19.231069Z"
    }
   },
   "outputs": [],
   "source": [
    "topic1={\n",
    "5: \"엔터테인먼트·예술\",\n",
    "6: \"엔터테인먼트·예술\",\n",
    "7: \"엔터테인먼트·예술\",\n",
    "8: \"엔터테인먼트·예술\",\n",
    "9: \"엔터테인먼트·예술\",\n",
    "10: \"엔터테인먼트·예술\",\n",
    "11: \"엔터테인먼트·예술\",\n",
    "12: \"엔터테인먼트·예술\",\n",
    "13: \"엔터테인먼트·예술\",\n",
    "14: \"생활·노하우·쇼핑\",\n",
    "15: \"생활·노하우·쇼핑\",\n",
    "16: \"생활·노하우·쇼핑\",\n",
    "17: \"생활·노하우·쇼핑\",\n",
    "18: \"생활·노하우·쇼핑\",\n",
    "19: \"생활·노하우·쇼핑\",\n",
    "20: \"생활·노하우·쇼핑\",\n",
    "21: \"생활·노하우·쇼핑\",\n",
    "22: \"취미·여가·여행\",\n",
    "23: \"취미·여가·여행\",\n",
    "24: \"취미·여가·여행\",\n",
    "25: \"취미·여가·여행\",\n",
    "26: \"취미·여가·여행\",\n",
    "27: \"취미·여가·여행\",\n",
    "28: \"취미·여가·여행\",\n",
    "29: \"취미·여가·여행\",\n",
    "30: \"지식·동향\",\n",
    "31: \"지식·동향\",\n",
    "32: \"지식·동향\",\n",
    "33: \"지식·동향\",\n",
    "34: \"지식·동향\",\n",
    "35: \"지식·동향\",\n",
    "36: \"생활·노하우·쇼핑\"\n",
    "}"
   ]
  },
  {
   "cell_type": "code",
   "execution_count": 22,
   "id": "1db784df",
   "metadata": {
    "ExecuteTime": {
     "end_time": "2023-07-10T19:21:19.602564Z",
     "start_time": "2023-07-10T19:21:19.579049Z"
    }
   },
   "outputs": [],
   "source": [
    "topic2={\n",
    "5: \"문학·책\",\n",
    "6: \"영화\",\n",
    "7: \"공연·전시\",\n",
    "8: \"미술·디자인\",\n",
    "9: \"드라마\",\n",
    "10: \"방송\",\n",
    "11: \"음악\",\n",
    "12: \"스타·연예인\",\n",
    "13: \"만화·애니\",\n",
    "14: \"일상·생각\",\n",
    "15: \"육아·결혼\",\n",
    "16: \"반려동물\",\n",
    "17: \"좋은글·이미지\",\n",
    "18: \"패션·미용\",\n",
    "19: \"인테리어·DIY\",\n",
    "20: \"요리·레시피\",\n",
    "21: \"상품리뷰\",\n",
    "22: \"게임\",\n",
    "23: \"스포츠\",\n",
    "24: \"사진\",\n",
    "25: \"자동차\",\n",
    "26: \"취미\",\n",
    "27: \"국내여행\",\n",
    "28: \"세계여행\",\n",
    "29: \"맛집\",\n",
    "30: \"IT·컴퓨터\",\n",
    "31: \"사회·정치\",\n",
    "32: \"건강·의학\",\n",
    "33: \"비즈니스·경제\",\n",
    "34: \"교육·학문\",\n",
    "35: \"어학·외국어\",\n",
    "36: \"원예·재배\"\n",
    "}"
   ]
  },
  {
   "cell_type": "markdown",
   "id": "764cfe29",
   "metadata": {},
   "source": [
    "## URL"
   ]
  },
  {
   "cell_type": "code",
   "execution_count": 23,
   "id": "def28f6a",
   "metadata": {
    "ExecuteTime": {
     "end_time": "2023-07-10T19:21:22.943062Z",
     "start_time": "2023-07-10T19:21:22.922266Z"
    }
   },
   "outputs": [],
   "source": [
    "def makeUrl_NaverBlog(topic,end_pg):\n",
    "    urls=[]\n",
    "    for i in range(1,end_pg+1):\n",
    "        url=f'https://section.blog.naver.com/ThemePost.naver?directoryNo={topic}&activeDirectorySeq=0&currentPage={i}'\n",
    "        urls.append(url)\n",
    "    return urls"
   ]
  },
  {
   "cell_type": "code",
   "execution_count": 24,
   "id": "edbf252f",
   "metadata": {
    "ExecuteTime": {
     "end_time": "2023-07-10T19:21:23.743401Z",
     "start_time": "2023-07-10T19:21:23.712463Z"
    }
   },
   "outputs": [],
   "source": [
    "L_error=[]\n",
    "def url_NaverBlog(topic=range(5,37),end_pg=10):\n",
    "    \n",
    "    \"\"\"\n",
    "    NaverBlog에 포함된 'url', 'title', 'big_topic', 'small_topic'을 가져오는 함수\n",
    "        Args:\n",
    "            topic (list): 크롤링하고 싶은 주제 | [5,6,7,8, ... ,36]\n",
    "            end_pg (int): 크롤링할 마지막 페이지\n",
    "        Returns:\n",
    "            'url', 'title', 'big_topic', 'small_topic', 'source' 컬럼을 가진 dataframe\n",
    "    \"\"\"\n",
    "    \n",
    "    df=pd.DataFrame()\n",
    "    \n",
    "    for n in topic:\n",
    "        globals()[f'urls_{n}']=makeUrl_NaverBlog(topic=n,end_pg=end_pg)\n",
    "    \n",
    "    for n in topic:\n",
    "        L_url=[]\n",
    "        L_title=[]\n",
    "        L_label=[]\n",
    "\n",
    "        for url in tqdm(globals()[f'urls_{n}']):\n",
    "            #driver = webdriver.Chrome()\n",
    "            driver = webdriver.Chrome(service=service, options=options)\n",
    "            driver.get(url)\n",
    "            time.sleep(2)\n",
    "            html = driver.page_source\n",
    "            soup = BeautifulSoup(html, \"html.parser\")\n",
    "            items = soup.select(\".item.multi_pic\")\n",
    "\n",
    "            for item in items:\n",
    "                L_title.append(item.select_one(\".desc_inner\").text)\n",
    "                L_url.append(item.select_one(\".desc_inner\")['href'])\n",
    "                L_label.append(n)\n",
    "            \n",
    "            driver.close()\n",
    "            time.sleep(3)\n",
    "            \n",
    "            if len(L_url)==0:\n",
    "                L_error.append(n)\n",
    "                break\n",
    "                \n",
    "        print(f'{topic2[n]}({n}): {len(L_url)}')\n",
    "        df=pd.concat([df,pd.DataFrame({'url':L_url,'label':L_label, 'title':L_title})]).reset_index(drop=True)\n",
    "        \n",
    "    df['big_topic']=df['label'].apply(lambda x: topic1[x])\n",
    "    df['small_topic']=df['label'].apply(lambda x: topic2[x])\n",
    "    df['source']='Naver_Blog'\n",
    "    df['title']=df['title'].apply(lambda x: x.replace(\"\\n\",\"\"))\n",
    "    return df"
   ]
  },
  {
   "cell_type": "code",
   "execution_count": 25,
   "id": "35c761ab",
   "metadata": {
    "ExecuteTime": {
     "end_time": "2023-07-10T19:22:04.363827Z",
     "start_time": "2023-07-10T19:21:25.172362Z"
    }
   },
   "outputs": [
    {
     "name": "stderr",
     "output_type": "stream",
     "text": [
      "100%|████████████████████████████████████████████████████████████████████████████████████| 2/2 [00:15<00:00,  7.62s/it]\n"
     ]
    },
    {
     "name": "stdout",
     "output_type": "stream",
     "text": [
      "문학·책(5): 19\n"
     ]
    },
    {
     "name": "stderr",
     "output_type": "stream",
     "text": [
      "100%|████████████████████████████████████████████████████████████████████████████████████| 2/2 [00:11<00:00,  5.99s/it]\n"
     ]
    },
    {
     "name": "stdout",
     "output_type": "stream",
     "text": [
      "영화(6): 20\n"
     ]
    },
    {
     "name": "stderr",
     "output_type": "stream",
     "text": [
      "100%|████████████████████████████████████████████████████████████████████████████████████| 2/2 [00:11<00:00,  5.97s/it]"
     ]
    },
    {
     "name": "stdout",
     "output_type": "stream",
     "text": [
      "공연·전시(7): 20\n"
     ]
    },
    {
     "name": "stderr",
     "output_type": "stream",
     "text": [
      "\n"
     ]
    }
   ],
   "source": [
    "df=url_NaverBlog(topic=range(5,8),end_pg=2)"
   ]
  },
  {
   "cell_type": "code",
   "execution_count": 26,
   "id": "751f898f",
   "metadata": {
    "ExecuteTime": {
     "end_time": "2023-07-10T19:22:04.394693Z",
     "start_time": "2023-07-10T19:22:04.363827Z"
    }
   },
   "outputs": [
    {
     "data": {
      "text/html": [
       "<div>\n",
       "<style scoped>\n",
       "    .dataframe tbody tr th:only-of-type {\n",
       "        vertical-align: middle;\n",
       "    }\n",
       "\n",
       "    .dataframe tbody tr th {\n",
       "        vertical-align: top;\n",
       "    }\n",
       "\n",
       "    .dataframe thead th {\n",
       "        text-align: right;\n",
       "    }\n",
       "</style>\n",
       "<table border=\"1\" class=\"dataframe\">\n",
       "  <thead>\n",
       "    <tr style=\"text-align: right;\">\n",
       "      <th></th>\n",
       "      <th>url</th>\n",
       "      <th>label</th>\n",
       "      <th>title</th>\n",
       "      <th>big_topic</th>\n",
       "      <th>small_topic</th>\n",
       "      <th>source</th>\n",
       "    </tr>\n",
       "  </thead>\n",
       "  <tbody>\n",
       "    <tr>\n",
       "      <th>0</th>\n",
       "      <td>https://blog.naver.com/bahnsoon/223152196964</td>\n",
       "      <td>5</td>\n",
       "      <td>고퀄이던 협재해수욕장 근처 맛집 제주 운치</td>\n",
       "      <td>엔터테인먼트·예술</td>\n",
       "      <td>문학·책</td>\n",
       "      <td>Naver_Blog</td>\n",
       "    </tr>\n",
       "    <tr>\n",
       "      <th>1</th>\n",
       "      <td>https://blog.naver.com/thetreasurehouse/223152...</td>\n",
       "      <td>5</td>\n",
       "      <td>어떤 생각들은 나의 세계가 된다(이충녕)</td>\n",
       "      <td>엔터테인먼트·예술</td>\n",
       "      <td>문학·책</td>\n",
       "      <td>Naver_Blog</td>\n",
       "    </tr>\n",
       "    <tr>\n",
       "      <th>2</th>\n",
       "      <td>https://blog.naver.com/jhji21/223152236910</td>\n",
       "      <td>5</td>\n",
       "      <td>[독서리뷰] 공간디깅: 감도 높은 공간들에 대한 인사이트 모음집 | 공간브랜딩</td>\n",
       "      <td>엔터테인먼트·예술</td>\n",
       "      <td>문학·책</td>\n",
       "      <td>Naver_Blog</td>\n",
       "    </tr>\n",
       "  </tbody>\n",
       "</table>\n",
       "</div>"
      ],
      "text/plain": [
       "                                                 url  label  \\\n",
       "0       https://blog.naver.com/bahnsoon/223152196964      5   \n",
       "1  https://blog.naver.com/thetreasurehouse/223152...      5   \n",
       "2         https://blog.naver.com/jhji21/223152236910      5   \n",
       "\n",
       "                                         title  big_topic small_topic  \\\n",
       "0                      고퀄이던 협재해수욕장 근처 맛집 제주 운치  엔터테인먼트·예술        문학·책   \n",
       "1                       어떤 생각들은 나의 세계가 된다(이충녕)  엔터테인먼트·예술        문학·책   \n",
       "2  [독서리뷰] 공간디깅: 감도 높은 공간들에 대한 인사이트 모음집 | 공간브랜딩  엔터테인먼트·예술        문학·책   \n",
       "\n",
       "       source  \n",
       "0  Naver_Blog  \n",
       "1  Naver_Blog  \n",
       "2  Naver_Blog  "
      ]
     },
     "execution_count": 26,
     "metadata": {},
     "output_type": "execute_result"
    }
   ],
   "source": [
    "df.head(3)"
   ]
  },
  {
   "cell_type": "markdown",
   "id": "933bbbcf",
   "metadata": {},
   "source": [
    "## Fix URL"
   ]
  },
  {
   "cell_type": "code",
   "execution_count": 27,
   "id": "a5f3b6e7",
   "metadata": {
    "ExecuteTime": {
     "end_time": "2023-07-10T19:22:08.744685Z",
     "start_time": "2023-07-10T19:22:08.731804Z"
    }
   },
   "outputs": [],
   "source": [
    "def delete_iframe_NaverBlog(url):\n",
    "    \n",
    "    \"\"\"\n",
    "    NaverBlog에 포함된 url에 대해 iframe 제거 후 blog.naver.com 붙이는 함수\n",
    "        Args:\n",
    "            url : NaverBlog에 포함된 url\n",
    "        Returns:\n",
    "            'url', 'url_fix' 컬럼을 가진 dataframe\n",
    "    \"\"\"\n",
    "    \n",
    "    try:\n",
    "        headers = {\"User-Agent\":\"Mozilla/5.0 (Windows NT 10.0; Win64; x64) AppleWebKit/537.36 (KHTML, like Gecko) Chrome/90.0.4430.93 Safari/537.36\"}\n",
    "        res = requests.get(url, headers=headers)\n",
    "        soup = BeautifulSoup(res.text, \"lxml\") \n",
    "        src_url = \"https://blog.naver.com/\" + soup.iframe[\"src\"]\n",
    "        return src_url\n",
    "    \n",
    "    except:\n",
    "        return np.nan"
   ]
  },
  {
   "cell_type": "code",
   "execution_count": 28,
   "id": "75f25703",
   "metadata": {
    "ExecuteTime": {
     "end_time": "2023-07-10T19:22:17.826131Z",
     "start_time": "2023-07-10T19:22:15.148827Z"
    }
   },
   "outputs": [
    {
     "name": "stderr",
     "output_type": "stream",
     "text": [
      "100%|██████████████████████████████████████████████████████████████████████████████████| 59/59 [00:02<00:00, 22.17it/s]\n"
     ]
    }
   ],
   "source": [
    "for i in tqdm(range(len(df))):\n",
    "    df.loc[i,'url_fix']=delete_iframe_NaverBlog(df.loc[i,'url'])"
   ]
  },
  {
   "cell_type": "code",
   "execution_count": 30,
   "id": "626b1071",
   "metadata": {
    "ExecuteTime": {
     "end_time": "2023-07-10T19:22:22.617080Z",
     "start_time": "2023-07-10T19:22:22.593422Z"
    }
   },
   "outputs": [
    {
     "data": {
      "text/html": [
       "<div>\n",
       "<style scoped>\n",
       "    .dataframe tbody tr th:only-of-type {\n",
       "        vertical-align: middle;\n",
       "    }\n",
       "\n",
       "    .dataframe tbody tr th {\n",
       "        vertical-align: top;\n",
       "    }\n",
       "\n",
       "    .dataframe thead th {\n",
       "        text-align: right;\n",
       "    }\n",
       "</style>\n",
       "<table border=\"1\" class=\"dataframe\">\n",
       "  <thead>\n",
       "    <tr style=\"text-align: right;\">\n",
       "      <th></th>\n",
       "      <th>url</th>\n",
       "      <th>label</th>\n",
       "      <th>title</th>\n",
       "      <th>big_topic</th>\n",
       "      <th>small_topic</th>\n",
       "      <th>source</th>\n",
       "      <th>url_fix</th>\n",
       "    </tr>\n",
       "  </thead>\n",
       "  <tbody>\n",
       "    <tr>\n",
       "      <th>0</th>\n",
       "      <td>https://blog.naver.com/bahnsoon/223152196964</td>\n",
       "      <td>5</td>\n",
       "      <td>고퀄이던 협재해수욕장 근처 맛집 제주 운치</td>\n",
       "      <td>엔터테인먼트·예술</td>\n",
       "      <td>문학·책</td>\n",
       "      <td>Naver_Blog</td>\n",
       "      <td>https://blog.naver.com//PostView.naver?blogId=...</td>\n",
       "    </tr>\n",
       "    <tr>\n",
       "      <th>1</th>\n",
       "      <td>https://blog.naver.com/thetreasurehouse/223152...</td>\n",
       "      <td>5</td>\n",
       "      <td>어떤 생각들은 나의 세계가 된다(이충녕)</td>\n",
       "      <td>엔터테인먼트·예술</td>\n",
       "      <td>문학·책</td>\n",
       "      <td>Naver_Blog</td>\n",
       "      <td>https://blog.naver.com//PostView.naver?blogId=...</td>\n",
       "    </tr>\n",
       "    <tr>\n",
       "      <th>2</th>\n",
       "      <td>https://blog.naver.com/jhji21/223152236910</td>\n",
       "      <td>5</td>\n",
       "      <td>[독서리뷰] 공간디깅: 감도 높은 공간들에 대한 인사이트 모음집 | 공간브랜딩</td>\n",
       "      <td>엔터테인먼트·예술</td>\n",
       "      <td>문학·책</td>\n",
       "      <td>Naver_Blog</td>\n",
       "      <td>https://blog.naver.com//PostView.naver?blogId=...</td>\n",
       "    </tr>\n",
       "  </tbody>\n",
       "</table>\n",
       "</div>"
      ],
      "text/plain": [
       "                                                 url  label  \\\n",
       "0       https://blog.naver.com/bahnsoon/223152196964      5   \n",
       "1  https://blog.naver.com/thetreasurehouse/223152...      5   \n",
       "2         https://blog.naver.com/jhji21/223152236910      5   \n",
       "\n",
       "                                         title  big_topic small_topic  \\\n",
       "0                      고퀄이던 협재해수욕장 근처 맛집 제주 운치  엔터테인먼트·예술        문학·책   \n",
       "1                       어떤 생각들은 나의 세계가 된다(이충녕)  엔터테인먼트·예술        문학·책   \n",
       "2  [독서리뷰] 공간디깅: 감도 높은 공간들에 대한 인사이트 모음집 | 공간브랜딩  엔터테인먼트·예술        문학·책   \n",
       "\n",
       "       source                                            url_fix  \n",
       "0  Naver_Blog  https://blog.naver.com//PostView.naver?blogId=...  \n",
       "1  Naver_Blog  https://blog.naver.com//PostView.naver?blogId=...  \n",
       "2  Naver_Blog  https://blog.naver.com//PostView.naver?blogId=...  "
      ]
     },
     "execution_count": 30,
     "metadata": {},
     "output_type": "execute_result"
    }
   ],
   "source": [
    "df.head(3)"
   ]
  },
  {
   "cell_type": "markdown",
   "id": "7ffca7c7",
   "metadata": {},
   "source": [
    "## Context"
   ]
  },
  {
   "cell_type": "code",
   "execution_count": 31,
   "id": "71436e48",
   "metadata": {
    "ExecuteTime": {
     "end_time": "2023-07-10T19:22:32.563202Z",
     "start_time": "2023-07-10T19:22:32.553999Z"
    }
   },
   "outputs": [],
   "source": [
    "def context_NaverBlog(url):\n",
    "    \n",
    "    \"\"\"\n",
    "    NaverBlog에 포함된 url에 해당하는 'context'를 가져오는 함수\n",
    "        Args:\n",
    "            url_fix : NaverBlog에 포함된 url에 대해 iframe 제거 후 blog.naver.com 붙인 수정된 url\n",
    "        Returns:\n",
    "            'url_fix', 'context' 컬럼을 가진 dataframe\n",
    "    \"\"\"\n",
    "    \n",
    "    try:\n",
    "        headers = {\"User-Agent\":\"Mozilla/5.0 (Windows NT 10.0; Win64; x64) AppleWebKit/537.36 (KHTML, like Gecko) Chrome/90.0.4430.93 Safari/537.36\"}\n",
    "        res = requests.get(url, headers=headers)\n",
    "        soup = BeautifulSoup(res.text, \"lxml\") \n",
    "        text = soup.find(\"div\", attrs={\"class\":\"se-main-container\"}).get_text()\n",
    "        text = text.replace(\"\\n\",\"\") #공백 제거\n",
    "        return text\n",
    "    except:\n",
    "        return np.nan"
   ]
  },
  {
   "cell_type": "code",
   "execution_count": 32,
   "id": "9b5aeb6c",
   "metadata": {
    "ExecuteTime": {
     "end_time": "2023-07-10T19:22:53.962001Z",
     "start_time": "2023-07-10T19:22:34.116165Z"
    }
   },
   "outputs": [
    {
     "name": "stderr",
     "output_type": "stream",
     "text": [
      "100%|██████████████████████████████████████████████████████████████████████████████████| 59/59 [00:19<00:00,  2.98it/s]\n"
     ]
    }
   ],
   "source": [
    "for i in tqdm(range(len(df))):\n",
    "    df.loc[i,'context']=context_NaverBlog(df.loc[i,'url_fix'])"
   ]
  },
  {
   "cell_type": "code",
   "execution_count": 35,
   "id": "3122d783",
   "metadata": {
    "ExecuteTime": {
     "end_time": "2023-07-10T19:23:11.015498Z",
     "start_time": "2023-07-10T19:23:10.986535Z"
    }
   },
   "outputs": [
    {
     "data": {
      "text/html": [
       "<div>\n",
       "<style scoped>\n",
       "    .dataframe tbody tr th:only-of-type {\n",
       "        vertical-align: middle;\n",
       "    }\n",
       "\n",
       "    .dataframe tbody tr th {\n",
       "        vertical-align: top;\n",
       "    }\n",
       "\n",
       "    .dataframe thead th {\n",
       "        text-align: right;\n",
       "    }\n",
       "</style>\n",
       "<table border=\"1\" class=\"dataframe\">\n",
       "  <thead>\n",
       "    <tr style=\"text-align: right;\">\n",
       "      <th></th>\n",
       "      <th>url</th>\n",
       "      <th>label</th>\n",
       "      <th>title</th>\n",
       "      <th>big_topic</th>\n",
       "      <th>small_topic</th>\n",
       "      <th>source</th>\n",
       "      <th>url_fix</th>\n",
       "      <th>context</th>\n",
       "    </tr>\n",
       "  </thead>\n",
       "  <tbody>\n",
       "    <tr>\n",
       "      <th>0</th>\n",
       "      <td>https://blog.naver.com/bahnsoon/223152196964</td>\n",
       "      <td>5</td>\n",
       "      <td>고퀄이던 협재해수욕장 근처 맛집 제주 운치</td>\n",
       "      <td>엔터테인먼트·예술</td>\n",
       "      <td>문학·책</td>\n",
       "      <td>Naver_Blog</td>\n",
       "      <td>https://blog.naver.com//PostView.naver?blogId=...</td>\n",
       "      <td>​얼마 전에 친구들이랑 올 여름 첫 물놀이를 하고 나서 협재해수욕장 근처 맛집에서 ...</td>\n",
       "    </tr>\n",
       "    <tr>\n",
       "      <th>1</th>\n",
       "      <td>https://blog.naver.com/thetreasurehouse/223152...</td>\n",
       "      <td>5</td>\n",
       "      <td>어떤 생각들은 나의 세계가 된다(이충녕)</td>\n",
       "      <td>엔터테인먼트·예술</td>\n",
       "      <td>문학·책</td>\n",
       "      <td>Naver_Blog</td>\n",
       "      <td>https://blog.naver.com//PostView.naver?blogId=...</td>\n",
       "      <td>어떤 생각들은 나의 세계가 된다 저자이충녕출판위즈덤하우스발매2022.11.11. ​...</td>\n",
       "    </tr>\n",
       "    <tr>\n",
       "      <th>2</th>\n",
       "      <td>https://blog.naver.com/jhji21/223152236910</td>\n",
       "      <td>5</td>\n",
       "      <td>[독서리뷰] 공간디깅: 감도 높은 공간들에 대한 인사이트 모음집 | 공간브랜딩</td>\n",
       "      <td>엔터테인먼트·예술</td>\n",
       "      <td>문학·책</td>\n",
       "      <td>Naver_Blog</td>\n",
       "      <td>https://blog.naver.com//PostView.naver?blogId=...</td>\n",
       "      <td>공간디깅 저자theblank_(더블랭크) 편집팀출판스페이스뱅크발매2023.07.03...</td>\n",
       "    </tr>\n",
       "  </tbody>\n",
       "</table>\n",
       "</div>"
      ],
      "text/plain": [
       "                                                 url  label  \\\n",
       "0       https://blog.naver.com/bahnsoon/223152196964      5   \n",
       "1  https://blog.naver.com/thetreasurehouse/223152...      5   \n",
       "2         https://blog.naver.com/jhji21/223152236910      5   \n",
       "\n",
       "                                         title  big_topic small_topic  \\\n",
       "0                      고퀄이던 협재해수욕장 근처 맛집 제주 운치  엔터테인먼트·예술        문학·책   \n",
       "1                       어떤 생각들은 나의 세계가 된다(이충녕)  엔터테인먼트·예술        문학·책   \n",
       "2  [독서리뷰] 공간디깅: 감도 높은 공간들에 대한 인사이트 모음집 | 공간브랜딩  엔터테인먼트·예술        문학·책   \n",
       "\n",
       "       source                                            url_fix  \\\n",
       "0  Naver_Blog  https://blog.naver.com//PostView.naver?blogId=...   \n",
       "1  Naver_Blog  https://blog.naver.com//PostView.naver?blogId=...   \n",
       "2  Naver_Blog  https://blog.naver.com//PostView.naver?blogId=...   \n",
       "\n",
       "                                             context  \n",
       "0  ​얼마 전에 친구들이랑 올 여름 첫 물놀이를 하고 나서 협재해수욕장 근처 맛집에서 ...  \n",
       "1  어떤 생각들은 나의 세계가 된다 저자이충녕출판위즈덤하우스발매2022.11.11. ​...  \n",
       "2  공간디깅 저자theblank_(더블랭크) 편집팀출판스페이스뱅크발매2023.07.03...  "
      ]
     },
     "execution_count": 35,
     "metadata": {},
     "output_type": "execute_result"
    }
   ],
   "source": [
    "df.head(3)"
   ]
  },
  {
   "cell_type": "code",
   "execution_count": null,
   "id": "25ded241",
   "metadata": {},
   "outputs": [],
   "source": []
  }
 ],
 "metadata": {
  "kernelspec": {
   "display_name": "Python 3 (ipykernel)",
   "language": "python",
   "name": "python3"
  },
  "language_info": {
   "codemirror_mode": {
    "name": "ipython",
    "version": 3
   },
   "file_extension": ".py",
   "mimetype": "text/x-python",
   "name": "python",
   "nbconvert_exporter": "python",
   "pygments_lexer": "ipython3",
   "version": "3.9.13"
  },
  "toc": {
   "base_numbering": 1,
   "nav_menu": {},
   "number_sections": true,
   "sideBar": true,
   "skip_h1_title": false,
   "title_cell": "Table of Contents",
   "title_sidebar": "Contents",
   "toc_cell": false,
   "toc_position": {
    "height": "calc(100% - 180px)",
    "left": "10px",
    "top": "150px",
    "width": "261.811px"
   },
   "toc_section_display": true,
   "toc_window_display": true
  }
 },
 "nbformat": 4,
 "nbformat_minor": 5
}
